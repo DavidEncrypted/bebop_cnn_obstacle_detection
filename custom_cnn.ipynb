{
 "cells": [
  {
   "cell_type": "code",
   "execution_count": 27,
   "id": "77025d7f",
   "metadata": {},
   "outputs": [],
   "source": [
    "import torch\n",
    "import torch.nn as nn\n",
    "import torch.nn.functional as F\n",
    "from torch.nn import init\n",
    "\n",
    "import torch.optim as optim\n",
    "from torchvision.transforms import v2\n",
    "from torch.utils.data import DataLoader\n",
    "\n",
    "import copy\n",
    "\n",
    "import tqdm\n",
    "from PIL import Image\n",
    "import numpy as np\n",
    "\n",
    "from mobilenetv3 import *\n",
    "from torchsummary import summary\n"
   ]
  },
  {
   "cell_type": "code",
   "execution_count": 28,
   "id": "c6f56e1f",
   "metadata": {},
   "outputs": [],
   "source": [
    "# ================= Model config values =================\n",
    "learning_rate = 0.001\n",
    "\n",
    "save_model_name = \"MobileNetTinyv1Trained\""
   ]
  },
  {
   "cell_type": "code",
   "execution_count": 29,
   "id": "7d9160f4",
   "metadata": {},
   "outputs": [
    {
     "name": "stdout",
     "output_type": "stream",
     "text": [
      "----------------------------------------------------------------\n",
      "        Layer (type)               Output Shape         Param #\n",
      "================================================================\n",
      "            Conv2d-1            [-1, 4, 43, 43]             108\n",
      "       BatchNorm2d-2            [-1, 4, 43, 43]               8\n",
      "             ReLU6-3            [-1, 4, 43, 43]               0\n",
      "         h_sigmoid-4            [-1, 4, 43, 43]               0\n",
      "           h_swish-5            [-1, 4, 43, 43]               0\n",
      "            Conv2d-6            [-1, 4, 43, 43]              36\n",
      "       BatchNorm2d-7            [-1, 4, 43, 43]               8\n",
      "              ReLU-8            [-1, 4, 43, 43]               0\n",
      "          Identity-9            [-1, 4, 43, 43]               0\n",
      "           Conv2d-10            [-1, 8, 43, 43]              32\n",
      "      BatchNorm2d-11            [-1, 8, 43, 43]              16\n",
      " InvertedResidual-12            [-1, 8, 43, 43]               0\n",
      "           Conv2d-13            [-1, 8, 22, 22]              72\n",
      "      BatchNorm2d-14            [-1, 8, 22, 22]              16\n",
      "             ReLU-15            [-1, 8, 22, 22]               0\n",
      "AdaptiveAvgPool2d-16              [-1, 8, 1, 1]               0\n",
      "           Linear-17                    [-1, 8]              72\n",
      "             ReLU-18                    [-1, 8]               0\n",
      "           Linear-19                    [-1, 8]              72\n",
      "          SELayer-20            [-1, 8, 22, 22]               0\n",
      "           Conv2d-21           [-1, 16, 22, 22]             128\n",
      "      BatchNorm2d-22           [-1, 16, 22, 22]              32\n",
      " InvertedResidual-23           [-1, 16, 22, 22]               0\n",
      "           Conv2d-24           [-1, 72, 22, 22]           1,152\n",
      "      BatchNorm2d-25           [-1, 72, 22, 22]             144\n",
      "             ReLU-26           [-1, 72, 22, 22]               0\n",
      "           Conv2d-27           [-1, 72, 11, 11]             648\n",
      "      BatchNorm2d-28           [-1, 72, 11, 11]             144\n",
      "         Identity-29           [-1, 72, 11, 11]               0\n",
      "             ReLU-30           [-1, 72, 11, 11]               0\n",
      "           Conv2d-31           [-1, 24, 11, 11]           1,728\n",
      "      BatchNorm2d-32           [-1, 24, 11, 11]              48\n",
      " InvertedResidual-33           [-1, 24, 11, 11]               0\n",
      "           Conv2d-34           [-1, 88, 11, 11]           2,112\n",
      "      BatchNorm2d-35           [-1, 88, 11, 11]             176\n",
      "             ReLU-36           [-1, 88, 11, 11]               0\n",
      "           Conv2d-37           [-1, 88, 11, 11]             792\n",
      "      BatchNorm2d-38           [-1, 88, 11, 11]             176\n",
      "         Identity-39           [-1, 88, 11, 11]               0\n",
      "             ReLU-40           [-1, 88, 11, 11]               0\n",
      "           Conv2d-41           [-1, 24, 11, 11]           2,112\n",
      "      BatchNorm2d-42           [-1, 24, 11, 11]              48\n",
      " InvertedResidual-43           [-1, 24, 11, 11]               0\n",
      "           Conv2d-44           [-1, 72, 11, 11]           1,728\n",
      "      BatchNorm2d-45           [-1, 72, 11, 11]             144\n",
      "            ReLU6-46           [-1, 72, 11, 11]               0\n",
      "        h_sigmoid-47           [-1, 72, 11, 11]               0\n",
      "          h_swish-48           [-1, 72, 11, 11]               0\n",
      "           Conv2d-49             [-1, 72, 6, 6]           1,800\n",
      "      BatchNorm2d-50             [-1, 72, 6, 6]             144\n",
      "AdaptiveAvgPool2d-51             [-1, 72, 1, 1]               0\n",
      "           Linear-52                   [-1, 24]           1,752\n",
      "             ReLU-53                   [-1, 24]               0\n",
      "           Linear-54                   [-1, 72]           1,800\n",
      "          SELayer-55             [-1, 72, 6, 6]               0\n",
      "            ReLU6-56             [-1, 72, 6, 6]               0\n",
      "        h_sigmoid-57             [-1, 72, 6, 6]               0\n",
      "          h_swish-58             [-1, 72, 6, 6]               0\n",
      "           Conv2d-59             [-1, 40, 6, 6]           2,880\n",
      "      BatchNorm2d-60             [-1, 40, 6, 6]              80\n",
      " InvertedResidual-61             [-1, 40, 6, 6]               0\n",
      "           Conv2d-62            [-1, 120, 6, 6]           4,800\n",
      "      BatchNorm2d-63            [-1, 120, 6, 6]             240\n",
      "            ReLU6-64            [-1, 120, 6, 6]               0\n",
      "        h_sigmoid-65            [-1, 120, 6, 6]               0\n",
      "          h_swish-66            [-1, 120, 6, 6]               0\n",
      "           Conv2d-67            [-1, 120, 6, 6]           3,000\n",
      "      BatchNorm2d-68            [-1, 120, 6, 6]             240\n",
      "AdaptiveAvgPool2d-69            [-1, 120, 1, 1]               0\n",
      "           Linear-70                   [-1, 32]           3,872\n",
      "             ReLU-71                   [-1, 32]               0\n",
      "           Linear-72                  [-1, 120]           3,960\n",
      "          SELayer-73            [-1, 120, 6, 6]               0\n",
      "            ReLU6-74            [-1, 120, 6, 6]               0\n",
      "        h_sigmoid-75            [-1, 120, 6, 6]               0\n",
      "          h_swish-76            [-1, 120, 6, 6]               0\n",
      "           Conv2d-77             [-1, 40, 6, 6]           4,800\n",
      "      BatchNorm2d-78             [-1, 40, 6, 6]              80\n",
      " InvertedResidual-79             [-1, 40, 6, 6]               0\n",
      "           Conv2d-80            [-1, 120, 6, 6]           4,800\n",
      "      BatchNorm2d-81            [-1, 120, 6, 6]             240\n",
      "            ReLU6-82            [-1, 120, 6, 6]               0\n",
      "        h_sigmoid-83            [-1, 120, 6, 6]               0\n",
      "          h_swish-84            [-1, 120, 6, 6]               0\n",
      "AdaptiveAvgPool2d-85            [-1, 120, 1, 1]               0\n",
      "           Linear-86                  [-1, 512]          61,952\n",
      "            ReLU6-87                  [-1, 512]               0\n",
      "        h_sigmoid-88                  [-1, 512]               0\n",
      "          h_swish-89                  [-1, 512]               0\n",
      "          Dropout-90                  [-1, 512]               0\n",
      "           Linear-91                    [-1, 1]             513\n",
      "            ReLU6-92                    [-1, 1]               0\n",
      "        h_sigmoid-93                    [-1, 1]               0\n",
      "================================================================\n",
      "Total params: 108,705\n",
      "Trainable params: 108,705\n",
      "Non-trainable params: 0\n",
      "----------------------------------------------------------------\n",
      "Input size (MB): 0.08\n",
      "Forward/backward pass size (MB): 3.98\n",
      "Params size (MB): 0.41\n",
      "Estimated Total Size (MB): 4.47\n",
      "----------------------------------------------------------------\n"
     ]
    }
   ],
   "source": [
    "mobilenet = mobilenetv3_tiny()\n",
    "\n",
    "mobilenet.to(torch.device(\"cuda\"))\n",
    "\n",
    "summary(mobilenet, (3, 85, 85))"
   ]
  },
  {
   "cell_type": "code",
   "execution_count": 30,
   "id": "bd721637",
   "metadata": {},
   "outputs": [
    {
     "name": "stdout",
     "output_type": "stream",
     "text": [
      "MobileNetV3(\n",
      "  (features): Sequential(\n",
      "    (0): Sequential(\n",
      "      (0): Conv2d(3, 4, kernel_size=(3, 3), stride=(2, 2), padding=(1, 1), bias=False)\n",
      "      (1): BatchNorm2d(4, eps=1e-05, momentum=0.1, affine=True, track_running_stats=True)\n",
      "      (2): h_swish(\n",
      "        (sigmoid): h_sigmoid(\n",
      "          (relu): ReLU6(inplace=True)\n",
      "        )\n",
      "      )\n",
      "    )\n",
      "    (1): InvertedResidual(\n",
      "      (conv): Sequential(\n",
      "        (0): Conv2d(4, 4, kernel_size=(3, 3), stride=(1, 1), padding=(1, 1), groups=4, bias=False)\n",
      "        (1): BatchNorm2d(4, eps=1e-05, momentum=0.1, affine=True, track_running_stats=True)\n",
      "        (2): ReLU(inplace=True)\n",
      "        (3): Identity()\n",
      "        (4): Conv2d(4, 8, kernel_size=(1, 1), stride=(1, 1), bias=False)\n",
      "        (5): BatchNorm2d(8, eps=1e-05, momentum=0.1, affine=True, track_running_stats=True)\n",
      "      )\n",
      "    )\n",
      "    (2): InvertedResidual(\n",
      "      (conv): Sequential(\n",
      "        (0): Conv2d(8, 8, kernel_size=(3, 3), stride=(2, 2), padding=(1, 1), groups=8, bias=False)\n",
      "        (1): BatchNorm2d(8, eps=1e-05, momentum=0.1, affine=True, track_running_stats=True)\n",
      "        (2): ReLU(inplace=True)\n",
      "        (3): SELayer(\n",
      "          (avg_pool): AdaptiveAvgPool2d(output_size=1)\n",
      "          (fc): Sequential(\n",
      "            (0): Linear(in_features=8, out_features=8, bias=True)\n",
      "            (1): ReLU(inplace=True)\n",
      "            (2): Linear(in_features=8, out_features=8, bias=True)\n",
      "          )\n",
      "        )\n",
      "        (4): Conv2d(8, 16, kernel_size=(1, 1), stride=(1, 1), bias=False)\n",
      "        (5): BatchNorm2d(16, eps=1e-05, momentum=0.1, affine=True, track_running_stats=True)\n",
      "      )\n",
      "    )\n",
      "    (3): InvertedResidual(\n",
      "      (conv): Sequential(\n",
      "        (0): Conv2d(16, 72, kernel_size=(1, 1), stride=(1, 1), bias=False)\n",
      "        (1): BatchNorm2d(72, eps=1e-05, momentum=0.1, affine=True, track_running_stats=True)\n",
      "        (2): ReLU(inplace=True)\n",
      "        (3): Conv2d(72, 72, kernel_size=(3, 3), stride=(2, 2), padding=(1, 1), groups=72, bias=False)\n",
      "        (4): BatchNorm2d(72, eps=1e-05, momentum=0.1, affine=True, track_running_stats=True)\n",
      "        (5): Identity()\n",
      "        (6): ReLU(inplace=True)\n",
      "        (7): Conv2d(72, 24, kernel_size=(1, 1), stride=(1, 1), bias=False)\n",
      "        (8): BatchNorm2d(24, eps=1e-05, momentum=0.1, affine=True, track_running_stats=True)\n",
      "      )\n",
      "    )\n",
      "    (4): InvertedResidual(\n",
      "      (conv): Sequential(\n",
      "        (0): Conv2d(24, 88, kernel_size=(1, 1), stride=(1, 1), bias=False)\n",
      "        (1): BatchNorm2d(88, eps=1e-05, momentum=0.1, affine=True, track_running_stats=True)\n",
      "        (2): ReLU(inplace=True)\n",
      "        (3): Conv2d(88, 88, kernel_size=(3, 3), stride=(1, 1), padding=(1, 1), groups=88, bias=False)\n",
      "        (4): BatchNorm2d(88, eps=1e-05, momentum=0.1, affine=True, track_running_stats=True)\n",
      "        (5): Identity()\n",
      "        (6): ReLU(inplace=True)\n",
      "        (7): Conv2d(88, 24, kernel_size=(1, 1), stride=(1, 1), bias=False)\n",
      "        (8): BatchNorm2d(24, eps=1e-05, momentum=0.1, affine=True, track_running_stats=True)\n",
      "      )\n",
      "    )\n",
      "    (5): InvertedResidual(\n",
      "      (conv): Sequential(\n",
      "        (0): Conv2d(24, 72, kernel_size=(1, 1), stride=(1, 1), bias=False)\n",
      "        (1): BatchNorm2d(72, eps=1e-05, momentum=0.1, affine=True, track_running_stats=True)\n",
      "        (2): h_swish(\n",
      "          (sigmoid): h_sigmoid(\n",
      "            (relu): ReLU6(inplace=True)\n",
      "          )\n",
      "        )\n",
      "        (3): Conv2d(72, 72, kernel_size=(5, 5), stride=(2, 2), padding=(2, 2), groups=72, bias=False)\n",
      "        (4): BatchNorm2d(72, eps=1e-05, momentum=0.1, affine=True, track_running_stats=True)\n",
      "        (5): SELayer(\n",
      "          (avg_pool): AdaptiveAvgPool2d(output_size=1)\n",
      "          (fc): Sequential(\n",
      "            (0): Linear(in_features=72, out_features=24, bias=True)\n",
      "            (1): ReLU(inplace=True)\n",
      "            (2): Linear(in_features=24, out_features=72, bias=True)\n",
      "          )\n",
      "        )\n",
      "        (6): h_swish(\n",
      "          (sigmoid): h_sigmoid(\n",
      "            (relu): ReLU6(inplace=True)\n",
      "          )\n",
      "        )\n",
      "        (7): Conv2d(72, 40, kernel_size=(1, 1), stride=(1, 1), bias=False)\n",
      "        (8): BatchNorm2d(40, eps=1e-05, momentum=0.1, affine=True, track_running_stats=True)\n",
      "      )\n",
      "    )\n",
      "    (6): InvertedResidual(\n",
      "      (conv): Sequential(\n",
      "        (0): Conv2d(40, 120, kernel_size=(1, 1), stride=(1, 1), bias=False)\n",
      "        (1): BatchNorm2d(120, eps=1e-05, momentum=0.1, affine=True, track_running_stats=True)\n",
      "        (2): h_swish(\n",
      "          (sigmoid): h_sigmoid(\n",
      "            (relu): ReLU6(inplace=True)\n",
      "          )\n",
      "        )\n",
      "        (3): Conv2d(120, 120, kernel_size=(5, 5), stride=(1, 1), padding=(2, 2), groups=120, bias=False)\n",
      "        (4): BatchNorm2d(120, eps=1e-05, momentum=0.1, affine=True, track_running_stats=True)\n",
      "        (5): SELayer(\n",
      "          (avg_pool): AdaptiveAvgPool2d(output_size=1)\n",
      "          (fc): Sequential(\n",
      "            (0): Linear(in_features=120, out_features=32, bias=True)\n",
      "            (1): ReLU(inplace=True)\n",
      "            (2): Linear(in_features=32, out_features=120, bias=True)\n",
      "          )\n",
      "        )\n",
      "        (6): h_swish(\n",
      "          (sigmoid): h_sigmoid(\n",
      "            (relu): ReLU6(inplace=True)\n",
      "          )\n",
      "        )\n",
      "        (7): Conv2d(120, 40, kernel_size=(1, 1), stride=(1, 1), bias=False)\n",
      "        (8): BatchNorm2d(40, eps=1e-05, momentum=0.1, affine=True, track_running_stats=True)\n",
      "      )\n",
      "    )\n",
      "  )\n",
      "  (conv): Sequential(\n",
      "    (0): Conv2d(40, 120, kernel_size=(1, 1), stride=(1, 1), bias=False)\n",
      "    (1): BatchNorm2d(120, eps=1e-05, momentum=0.1, affine=True, track_running_stats=True)\n",
      "    (2): h_swish(\n",
      "      (sigmoid): h_sigmoid(\n",
      "        (relu): ReLU6(inplace=True)\n",
      "      )\n",
      "    )\n",
      "  )\n",
      "  (avgpool): AdaptiveAvgPool2d(output_size=(1, 1))\n",
      "  (classifier): Sequential(\n",
      "    (0): Linear(in_features=120, out_features=512, bias=True)\n",
      "    (1): h_swish(\n",
      "      (sigmoid): h_sigmoid(\n",
      "        (relu): ReLU6(inplace=True)\n",
      "      )\n",
      "    )\n",
      "    (2): Dropout(p=0.2, inplace=False)\n",
      "    (3): Linear(in_features=512, out_features=1, bias=True)\n",
      "    (4): h_sigmoid(\n",
      "      (relu): ReLU6(inplace=True)\n",
      "    )\n",
      "  )\n",
      ")\n"
     ]
    }
   ],
   "source": [
    "print(mobilenet)"
   ]
  },
  {
   "cell_type": "markdown",
   "id": "6783b7fb",
   "metadata": {},
   "source": [
    "# Training"
   ]
  },
  {
   "cell_type": "code",
   "execution_count": 31,
   "id": "8c1b0677",
   "metadata": {},
   "outputs": [
    {
     "name": "stdout",
     "output_type": "stream",
     "text": [
      "Dataset number of samples: 15\n"
     ]
    }
   ],
   "source": [
    "import pickle\n",
    "\n",
    "dataset_output_name = \"dataset-full\"\n",
    "\n",
    "datasetpath = \"./\" + dataset_output_name + \".pkl\"\n",
    "\n",
    "# Load dataset\n",
    "with open(datasetpath, 'rb') as f:\n",
    "    dataset1 = pickle.load(f)\n",
    "\n",
    "print(f\"Dataset number of samples: {len(dataset1)}\")"
   ]
  },
  {
   "cell_type": "code",
   "execution_count": 32,
   "id": "eb6291a5",
   "metadata": {},
   "outputs": [],
   "source": [
    "class CustomDataset(torch.utils.data.Dataset):\n",
    "    def __init__(self, images, labels):\n",
    "        self.images = images\n",
    "        self.labels = labels\n",
    "\n",
    "        self.transform = v2.Compose([ \n",
    "            v2.PILToTensor(),\n",
    "            v2.ToDtype(torch.float32, scale=True),\n",
    "        ]) \n",
    "\n",
    "    def __len__(self):\n",
    "        return len(self.images)\n",
    "\n",
    "    def __getitem__(self, idx):\n",
    "        image = self.images[idx]\n",
    "\n",
    "        image.resize((85,85), Image.NEAREST) # Resize to 85x85 from 170x170\n",
    "\n",
    "        label = self.labels[idx]\n",
    "        if label:\n",
    "            label = torch.tensor([1.0], dtype=torch.float32) \n",
    "        else:\n",
    "            label = torch.tensor([0.0], dtype=torch.float32) \n",
    "\n",
    "        image = self.transform(image)\n",
    "\n",
    "        return {'image': image, 'label': label}"
   ]
  },
  {
   "cell_type": "code",
   "execution_count": 38,
   "id": "517962dc",
   "metadata": {},
   "outputs": [],
   "source": [
    "from sklearn.model_selection import train_test_split\n",
    "\n",
    "images = [s['image'] for s in dataset1]\n",
    "labels = [s['label'] for s in dataset1]\n",
    "\n",
    "# Assuming images and labels are your data\n",
    "images_train, images_test, labels_train, labels_test = train_test_split(images, labels, test_size=0.2)\n"
   ]
  },
  {
   "cell_type": "code",
   "execution_count": 39,
   "id": "2a4da814",
   "metadata": {},
   "outputs": [
    {
     "data": {
      "text/plain": [
       "12"
      ]
     },
     "execution_count": 39,
     "metadata": {},
     "output_type": "execute_result"
    }
   ],
   "source": [
    "len(labels_train)"
   ]
  },
  {
   "cell_type": "code",
   "execution_count": 40,
   "id": "6a236c27",
   "metadata": {},
   "outputs": [
    {
     "name": "stdout",
     "output_type": "stream",
     "text": [
      "Class imbalance factor: 5.0\n"
     ]
    }
   ],
   "source": [
    "# Calculate class imbalance factor\n",
    "# Is used in the loss function to mitigate the class imbalance issues\n",
    "\n",
    "num_true = sum([x for x in labels_train if x])\n",
    "class_imbalance_factor = (len(labels_train)-num_true)/num_true\n",
    "\n",
    "print(f\"Class imbalance factor: {class_imbalance_factor}\")"
   ]
  },
  {
   "cell_type": "code",
   "execution_count": 41,
   "id": "7a6684ce",
   "metadata": {},
   "outputs": [],
   "source": [
    "train_dataset = CustomDataset(images_train, labels_train)\n",
    "test_dataset = CustomDataset(images_test, labels_test)"
   ]
  },
  {
   "cell_type": "code",
   "execution_count": 42,
   "id": "5e7c9bcd",
   "metadata": {},
   "outputs": [],
   "source": [
    "def get_num_correct(y_true, y_prob):\n",
    "    return (y_true == y_prob).sum().item()\n",
    "\n",
    "def get_accuracy(y_true, y_prob):\n",
    "    return (y_true == y_prob).sum().item() / y_true.size(0)"
   ]
  },
  {
   "cell_type": "code",
   "execution_count": 43,
   "id": "5fb01aae",
   "metadata": {},
   "outputs": [],
   "source": [
    "from sklearn.metrics import confusion_matrix\n",
    "\n",
    "# Create a DataLoader for the test set\n",
    "test_dataloader = DataLoader(test_dataset, batch_size=8, shuffle=True)\n",
    "\n",
    "def test_model(model):\n",
    "    # Switch model to evaluation mode\n",
    "    model.eval()\n",
    "    model.to(torch.device(\"cuda\"))\n",
    "    correct = 0\n",
    "    total = 0\n",
    "    all_labels = []\n",
    "    all_predictions = []\n",
    "    with torch.no_grad():\n",
    "        for data in test_dataloader:\n",
    "            images, labels = data['image'], data['label']\n",
    "            images = images.to(torch.device(\"cuda\"))\n",
    "            labels = labels.to(torch.device(\"cuda\"))\n",
    "            outputs = model(images)\n",
    "            outputs = outputs > 0.5 # output is now 0 or 1\n",
    "            all_labels.extend(labels.cpu().numpy())\n",
    "            all_predictions.extend(outputs.cpu().numpy())\n",
    "            total += labels.size(0)\n",
    "            correct += get_num_correct(labels, outputs.data)\n",
    "    accuracy = 100 * correct / total\n",
    "    print(f'Accuracy of the network on the test images: {accuracy} %%')\n",
    "\n",
    "    # Calculate and print the confusion matrix\n",
    "    cm = confusion_matrix(all_labels, all_predictions)\n",
    "    print('Confusion Matrix:')\n",
    "    print(cm)\n",
    "\n",
    "    return accuracy"
   ]
  },
  {
   "cell_type": "code",
   "execution_count": 44,
   "id": "77b39a45",
   "metadata": {},
   "outputs": [],
   "source": [
    "def train(model, n_epochs, train_dataloader, optimizer, criterion):\n",
    "\n",
    "    # Hold the best model\n",
    "    best_acc = - np.inf   # init to negative infinity\n",
    "    best_weights = None\n",
    "\n",
    "    for epoch in range(n_epochs):\n",
    "        # print(epoch)\n",
    "        model.train()\n",
    "        num_batches = 0\n",
    "        total_loss  = 0\n",
    "        with tqdm.tqdm(train_dataloader) as bar:\n",
    "            bar.set_description(f\"Epoch {epoch}\")\n",
    "            for data in bar:\n",
    "                # take a batch\n",
    "                inputs, labels = data['image'], data['label']\n",
    "                inputs = inputs.to(torch.device(\"cuda\"))\n",
    "                labels = labels.to(torch.device(\"cuda\"))\n",
    "                \n",
    "                optimizer.zero_grad()\n",
    "\n",
    "                outputs = model(inputs)\n",
    "                loss = criterion(outputs, labels)\n",
    "                loss.backward()\n",
    "                optimizer.step()\n",
    "                \n",
    "                acc = get_accuracy(labels, outputs.data)\n",
    "\n",
    "                num_batches += 1\n",
    "                total_loss += float(loss)\n",
    "\n",
    "                bar.set_postfix(\n",
    "                    loss=float(total_loss/num_batches),\n",
    "                    acc=float(acc)\n",
    "                )\n",
    "        # evaluate accuracy at end of each epoch\n",
    "        \n",
    "        acc = test_model(model)\n",
    "        acc = float(acc)\n",
    "        if acc > best_acc:\n",
    "            print(\"saving best acc model\")\n",
    "            best_acc = acc\n",
    "            best_weights = copy.deepcopy(model.state_dict())\n",
    "\n",
    "    return best_weights"
   ]
  },
  {
   "cell_type": "code",
   "execution_count": 45,
   "id": "a1ee76b8",
   "metadata": {},
   "outputs": [
    {
     "name": "stderr",
     "output_type": "stream",
     "text": [
      "Epoch 0: 100%|██████████| 2/2 [00:00<00:00, 34.27it/s, acc=0, loss=1.32]\n"
     ]
    },
    {
     "name": "stdout",
     "output_type": "stream",
     "text": [
      "Accuracy of the network on the test images: 33.333333333333336 %%\n",
      "Confusion Matrix:\n",
      "[[1 0]\n",
      " [2 0]]\n",
      "saving best acc model\n"
     ]
    },
    {
     "name": "stderr",
     "output_type": "stream",
     "text": [
      "Epoch 1: 100%|██████████| 2/2 [00:00<00:00, 30.75it/s, acc=0, loss=1.25]\n"
     ]
    },
    {
     "name": "stdout",
     "output_type": "stream",
     "text": [
      "Accuracy of the network on the test images: 33.333333333333336 %%\n",
      "Confusion Matrix:\n",
      "[[1 0]\n",
      " [2 0]]\n"
     ]
    },
    {
     "name": "stderr",
     "output_type": "stream",
     "text": [
      "Epoch 2: 100%|██████████| 2/2 [00:00<00:00, 30.16it/s, acc=0, loss=1.23]\n"
     ]
    },
    {
     "name": "stdout",
     "output_type": "stream",
     "text": [
      "Accuracy of the network on the test images: 33.333333333333336 %%\n",
      "Confusion Matrix:\n",
      "[[1 0]\n",
      " [2 0]]\n"
     ]
    },
    {
     "name": "stderr",
     "output_type": "stream",
     "text": [
      "Epoch 3: 100%|██████████| 2/2 [00:00<00:00, 59.08it/s, acc=0, loss=1.14]\n"
     ]
    },
    {
     "name": "stdout",
     "output_type": "stream",
     "text": [
      "Accuracy of the network on the test images: 33.333333333333336 %%\n",
      "Confusion Matrix:\n",
      "[[1 0]\n",
      " [2 0]]\n"
     ]
    },
    {
     "name": "stderr",
     "output_type": "stream",
     "text": [
      "Epoch 4: 100%|██████████| 2/2 [00:00<00:00, 44.47it/s, acc=0, loss=1.13]\n"
     ]
    },
    {
     "name": "stdout",
     "output_type": "stream",
     "text": [
      "Accuracy of the network on the test images: 33.333333333333336 %%\n",
      "Confusion Matrix:\n",
      "[[1 0]\n",
      " [2 0]]\n"
     ]
    },
    {
     "name": "stderr",
     "output_type": "stream",
     "text": [
      "Epoch 5: 100%|██████████| 2/2 [00:00<00:00, 39.34it/s, acc=0, loss=1.12]\n"
     ]
    },
    {
     "name": "stdout",
     "output_type": "stream",
     "text": [
      "Accuracy of the network on the test images: 33.333333333333336 %%\n",
      "Confusion Matrix:\n",
      "[[1 0]\n",
      " [2 0]]\n"
     ]
    },
    {
     "name": "stderr",
     "output_type": "stream",
     "text": [
      "Epoch 6: 100%|██████████| 2/2 [00:00<00:00, 34.53it/s, acc=0, loss=1.18]\n"
     ]
    },
    {
     "name": "stdout",
     "output_type": "stream",
     "text": [
      "Accuracy of the network on the test images: 33.333333333333336 %%\n",
      "Confusion Matrix:\n",
      "[[1 0]\n",
      " [2 0]]\n"
     ]
    },
    {
     "name": "stderr",
     "output_type": "stream",
     "text": [
      "Epoch 7: 100%|██████████| 2/2 [00:00<00:00, 20.47it/s, acc=0, loss=1.09]\n"
     ]
    },
    {
     "name": "stdout",
     "output_type": "stream",
     "text": [
      "Accuracy of the network on the test images: 33.333333333333336 %%\n",
      "Confusion Matrix:\n",
      "[[1 0]\n",
      " [2 0]]\n"
     ]
    },
    {
     "name": "stderr",
     "output_type": "stream",
     "text": [
      "Epoch 8: 100%|██████████| 2/2 [00:00<00:00, 42.62it/s, acc=0, loss=1.11]\n"
     ]
    },
    {
     "name": "stdout",
     "output_type": "stream",
     "text": [
      "Accuracy of the network on the test images: 33.333333333333336 %%\n",
      "Confusion Matrix:\n",
      "[[1 0]\n",
      " [2 0]]\n"
     ]
    },
    {
     "name": "stderr",
     "output_type": "stream",
     "text": [
      "Epoch 9: 100%|██████████| 2/2 [00:00<00:00, 26.45it/s, acc=0, loss=1.07]\n"
     ]
    },
    {
     "name": "stdout",
     "output_type": "stream",
     "text": [
      "Accuracy of the network on the test images: 33.333333333333336 %%\n",
      "Confusion Matrix:\n",
      "[[1 0]\n",
      " [2 0]]\n"
     ]
    },
    {
     "name": "stderr",
     "output_type": "stream",
     "text": [
      "Epoch 10: 100%|██████████| 2/2 [00:00<00:00, 52.23it/s, acc=0.25, loss=1.17]\n"
     ]
    },
    {
     "name": "stdout",
     "output_type": "stream",
     "text": [
      "Accuracy of the network on the test images: 33.333333333333336 %%\n",
      "Confusion Matrix:\n",
      "[[1 0]\n",
      " [2 0]]\n"
     ]
    },
    {
     "name": "stderr",
     "output_type": "stream",
     "text": [
      "Epoch 11: 100%|██████████| 2/2 [00:00<00:00, 38.20it/s, acc=0.5, loss=0.959]\n"
     ]
    },
    {
     "name": "stdout",
     "output_type": "stream",
     "text": [
      "Accuracy of the network on the test images: 33.333333333333336 %%\n",
      "Confusion Matrix:\n",
      "[[1 0]\n",
      " [2 0]]\n"
     ]
    },
    {
     "name": "stderr",
     "output_type": "stream",
     "text": [
      "Epoch 12: 100%|██████████| 2/2 [00:00<00:00, 36.76it/s, acc=0.25, loss=0.916]\n"
     ]
    },
    {
     "name": "stdout",
     "output_type": "stream",
     "text": [
      "Accuracy of the network on the test images: 33.333333333333336 %%\n",
      "Confusion Matrix:\n",
      "[[1 0]\n",
      " [2 0]]\n"
     ]
    },
    {
     "name": "stderr",
     "output_type": "stream",
     "text": [
      "Epoch 13: 100%|██████████| 2/2 [00:00<00:00, 17.80it/s, acc=0.75, loss=0.915]\n"
     ]
    },
    {
     "name": "stdout",
     "output_type": "stream",
     "text": [
      "Accuracy of the network on the test images: 33.333333333333336 %%\n",
      "Confusion Matrix:\n",
      "[[1 0]\n",
      " [2 0]]\n"
     ]
    },
    {
     "name": "stderr",
     "output_type": "stream",
     "text": [
      "Epoch 14: 100%|██████████| 2/2 [00:00<00:00, 30.38it/s, acc=0.75, loss=0.875]\n"
     ]
    },
    {
     "name": "stdout",
     "output_type": "stream",
     "text": [
      "Accuracy of the network on the test images: 33.333333333333336 %%\n",
      "Confusion Matrix:\n",
      "[[1 0]\n",
      " [2 0]]\n"
     ]
    },
    {
     "name": "stderr",
     "output_type": "stream",
     "text": [
      "Epoch 15: 100%|██████████| 2/2 [00:00<00:00, 48.65it/s, acc=1, loss=0.865]\n"
     ]
    },
    {
     "name": "stdout",
     "output_type": "stream",
     "text": [
      "Accuracy of the network on the test images: 33.333333333333336 %%\n",
      "Confusion Matrix:\n",
      "[[1 0]\n",
      " [2 0]]\n"
     ]
    },
    {
     "name": "stderr",
     "output_type": "stream",
     "text": [
      "Epoch 16: 100%|██████████| 2/2 [00:00<00:00, 59.21it/s, acc=0.25, loss=0.824]\n"
     ]
    },
    {
     "name": "stdout",
     "output_type": "stream",
     "text": [
      "Accuracy of the network on the test images: 33.333333333333336 %%\n",
      "Confusion Matrix:\n",
      "[[1 0]\n",
      " [2 0]]\n"
     ]
    },
    {
     "name": "stderr",
     "output_type": "stream",
     "text": [
      "Epoch 17: 100%|██████████| 2/2 [00:00<00:00, 44.44it/s, acc=0.5, loss=0.819]\n"
     ]
    },
    {
     "name": "stdout",
     "output_type": "stream",
     "text": [
      "Accuracy of the network on the test images: 33.333333333333336 %%\n",
      "Confusion Matrix:\n",
      "[[1 0]\n",
      " [2 0]]\n"
     ]
    },
    {
     "name": "stderr",
     "output_type": "stream",
     "text": [
      "Epoch 18: 100%|██████████| 2/2 [00:00<00:00, 21.42it/s, acc=0.5, loss=0.819]\n"
     ]
    },
    {
     "name": "stdout",
     "output_type": "stream",
     "text": [
      "Accuracy of the network on the test images: 33.333333333333336 %%\n",
      "Confusion Matrix:\n",
      "[[1 0]\n",
      " [2 0]]\n"
     ]
    },
    {
     "name": "stderr",
     "output_type": "stream",
     "text": [
      "Epoch 19: 100%|██████████| 2/2 [00:00<00:00, 17.08it/s, acc=1, loss=0.857]\n"
     ]
    },
    {
     "name": "stdout",
     "output_type": "stream",
     "text": [
      "Accuracy of the network on the test images: 33.333333333333336 %%\n",
      "Confusion Matrix:\n",
      "[[1 0]\n",
      " [2 0]]\n"
     ]
    },
    {
     "name": "stderr",
     "output_type": "stream",
     "text": [
      "Epoch 20: 100%|██████████| 2/2 [00:00<00:00, 18.08it/s, acc=0.75, loss=0.901]\n"
     ]
    },
    {
     "name": "stdout",
     "output_type": "stream",
     "text": [
      "Accuracy of the network on the test images: 33.333333333333336 %%\n",
      "Confusion Matrix:\n",
      "[[1 0]\n",
      " [2 0]]\n"
     ]
    },
    {
     "name": "stderr",
     "output_type": "stream",
     "text": [
      "Epoch 21: 100%|██████████| 2/2 [00:00<00:00, 63.56it/s, acc=0.75, loss=0.81]\n"
     ]
    },
    {
     "name": "stdout",
     "output_type": "stream",
     "text": [
      "Accuracy of the network on the test images: 33.333333333333336 %%\n",
      "Confusion Matrix:\n",
      "[[1 0]\n",
      " [2 0]]\n"
     ]
    },
    {
     "name": "stderr",
     "output_type": "stream",
     "text": [
      "Epoch 22: 100%|██████████| 2/2 [00:00<00:00, 60.39it/s, acc=1, loss=0.857]\n"
     ]
    },
    {
     "name": "stdout",
     "output_type": "stream",
     "text": [
      "Accuracy of the network on the test images: 33.333333333333336 %%\n",
      "Confusion Matrix:\n",
      "[[1 0]\n",
      " [2 0]]\n"
     ]
    },
    {
     "name": "stderr",
     "output_type": "stream",
     "text": [
      "Epoch 23: 100%|██████████| 2/2 [00:00<00:00, 48.18it/s, acc=1, loss=0.857]\n"
     ]
    },
    {
     "name": "stdout",
     "output_type": "stream",
     "text": [
      "Accuracy of the network on the test images: 33.333333333333336 %%\n",
      "Confusion Matrix:\n",
      "[[1 0]\n",
      " [2 0]]\n"
     ]
    },
    {
     "name": "stderr",
     "output_type": "stream",
     "text": [
      "Epoch 24: 100%|██████████| 2/2 [00:00<00:00, 24.38it/s, acc=0.75, loss=0.803]\n"
     ]
    },
    {
     "name": "stdout",
     "output_type": "stream",
     "text": [
      "Accuracy of the network on the test images: 33.333333333333336 %%\n",
      "Confusion Matrix:\n",
      "[[1 0]\n",
      " [2 0]]\n"
     ]
    },
    {
     "name": "stderr",
     "output_type": "stream",
     "text": [
      "Epoch 25: 100%|██████████| 2/2 [00:00<00:00, 41.42it/s, acc=0.75, loss=0.835]\n"
     ]
    },
    {
     "name": "stdout",
     "output_type": "stream",
     "text": [
      "Accuracy of the network on the test images: 33.333333333333336 %%\n",
      "Confusion Matrix:\n",
      "[[1 0]\n",
      " [2 0]]\n"
     ]
    },
    {
     "name": "stderr",
     "output_type": "stream",
     "text": [
      "Epoch 26: 100%|██████████| 2/2 [00:00<00:00, 27.20it/s, acc=1, loss=0.857]\n"
     ]
    },
    {
     "name": "stdout",
     "output_type": "stream",
     "text": [
      "Accuracy of the network on the test images: 33.333333333333336 %%\n",
      "Confusion Matrix:\n",
      "[[1 0]\n",
      " [2 0]]\n"
     ]
    },
    {
     "name": "stderr",
     "output_type": "stream",
     "text": [
      "Epoch 27: 100%|██████████| 2/2 [00:00<00:00, 36.38it/s, acc=1, loss=0.857]\n"
     ]
    },
    {
     "name": "stdout",
     "output_type": "stream",
     "text": [
      "Accuracy of the network on the test images: 33.333333333333336 %%\n",
      "Confusion Matrix:\n",
      "[[1 0]\n",
      " [2 0]]\n"
     ]
    },
    {
     "name": "stderr",
     "output_type": "stream",
     "text": [
      "Epoch 28: 100%|██████████| 2/2 [00:00<00:00, 52.34it/s, acc=1, loss=0.857]\n"
     ]
    },
    {
     "name": "stdout",
     "output_type": "stream",
     "text": [
      "Accuracy of the network on the test images: 33.333333333333336 %%\n",
      "Confusion Matrix:\n",
      "[[1 0]\n",
      " [2 0]]\n"
     ]
    },
    {
     "name": "stderr",
     "output_type": "stream",
     "text": [
      "Epoch 29: 100%|██████████| 2/2 [00:00<00:00, 47.02it/s, acc=0.75, loss=0.835]"
     ]
    },
    {
     "name": "stdout",
     "output_type": "stream",
     "text": [
      "Accuracy of the network on the test images: 33.333333333333336 %%\n",
      "Confusion Matrix:\n",
      "[[1 0]\n",
      " [2 0]]\n"
     ]
    },
    {
     "name": "stderr",
     "output_type": "stream",
     "text": [
      "\n"
     ]
    }
   ],
   "source": [
    "n_epochs = 30\n",
    "\n",
    "model = mobilenetv3_tiny()\n",
    "model.train()\n",
    "model.to(torch.device(\"cuda\"))\n",
    "\n",
    "criterion = nn.BCEWithLogitsLoss(pos_weight=torch.tensor(class_imbalance_factor))\n",
    "optimizer = optim.Adam(model.parameters(), lr=learning_rate)\n",
    "\n",
    "# Create a DataLoader from the dataset\n",
    "train_dataloader = DataLoader(train_dataset, batch_size=8, shuffle=True)\n",
    "\n",
    "best_weights = train(model, n_epochs, train_dataloader, optimizer, criterion)\n"
   ]
  },
  {
   "cell_type": "code",
   "execution_count": 46,
   "id": "c3d57d9e",
   "metadata": {},
   "outputs": [
    {
     "name": "stderr",
     "output_type": "stream",
     "text": [
      "Epoch 0: 100%|██████████| 2/2 [00:00<00:00, 29.75it/s, acc=1, loss=0.802]\n"
     ]
    },
    {
     "name": "stdout",
     "output_type": "stream",
     "text": [
      "Accuracy of the network on the test images: 33.333333333333336 %%\n",
      "Confusion Matrix:\n",
      "[[1 0]\n",
      " [2 0]]\n",
      "saving best acc model\n"
     ]
    },
    {
     "name": "stderr",
     "output_type": "stream",
     "text": [
      "Epoch 1: 100%|██████████| 2/2 [00:00<00:00, 16.69it/s, acc=1, loss=0.857]\n"
     ]
    },
    {
     "name": "stdout",
     "output_type": "stream",
     "text": [
      "Accuracy of the network on the test images: 33.333333333333336 %%\n",
      "Confusion Matrix:\n",
      "[[1 0]\n",
      " [2 0]]\n"
     ]
    },
    {
     "name": "stderr",
     "output_type": "stream",
     "text": [
      "Epoch 2: 100%|██████████| 2/2 [00:00<00:00, 38.33it/s, acc=1, loss=0.802]\n"
     ]
    },
    {
     "name": "stdout",
     "output_type": "stream",
     "text": [
      "Accuracy of the network on the test images: 33.333333333333336 %%\n",
      "Confusion Matrix:\n",
      "[[1 0]\n",
      " [2 0]]\n"
     ]
    },
    {
     "name": "stderr",
     "output_type": "stream",
     "text": [
      "Epoch 3: 100%|██████████| 2/2 [00:00<00:00, 56.02it/s, acc=1, loss=0.863]\n"
     ]
    },
    {
     "name": "stdout",
     "output_type": "stream",
     "text": [
      "Accuracy of the network on the test images: 33.333333333333336 %%\n",
      "Confusion Matrix:\n",
      "[[1 0]\n",
      " [2 0]]\n"
     ]
    },
    {
     "name": "stderr",
     "output_type": "stream",
     "text": [
      "Epoch 4: 100%|██████████| 2/2 [00:00<00:00, 54.58it/s, acc=1, loss=0.857]\n"
     ]
    },
    {
     "name": "stdout",
     "output_type": "stream",
     "text": [
      "Accuracy of the network on the test images: 33.333333333333336 %%\n",
      "Confusion Matrix:\n",
      "[[1 0]\n",
      " [2 0]]\n"
     ]
    },
    {
     "name": "stderr",
     "output_type": "stream",
     "text": [
      "Epoch 5: 100%|██████████| 2/2 [00:00<00:00, 31.29it/s, acc=0.75, loss=1.15]\n"
     ]
    },
    {
     "name": "stdout",
     "output_type": "stream",
     "text": [
      "Accuracy of the network on the test images: 33.333333333333336 %%\n",
      "Confusion Matrix:\n",
      "[[1 0]\n",
      " [2 0]]\n"
     ]
    },
    {
     "name": "stderr",
     "output_type": "stream",
     "text": [
      "Epoch 6: 100%|██████████| 2/2 [00:00<00:00, 22.38it/s, acc=1, loss=0.857]\n"
     ]
    },
    {
     "name": "stdout",
     "output_type": "stream",
     "text": [
      "Accuracy of the network on the test images: 33.333333333333336 %%\n",
      "Confusion Matrix:\n",
      "[[1 0]\n",
      " [2 0]]\n"
     ]
    },
    {
     "name": "stderr",
     "output_type": "stream",
     "text": [
      "Epoch 7: 100%|██████████| 2/2 [00:00<00:00, 36.70it/s, acc=1, loss=0.802]\n"
     ]
    },
    {
     "name": "stdout",
     "output_type": "stream",
     "text": [
      "Accuracy of the network on the test images: 33.333333333333336 %%\n",
      "Confusion Matrix:\n",
      "[[1 0]\n",
      " [2 0]]\n"
     ]
    },
    {
     "name": "stderr",
     "output_type": "stream",
     "text": [
      "Epoch 8: 100%|██████████| 2/2 [00:00<00:00, 27.02it/s, acc=1, loss=0.857]\n"
     ]
    },
    {
     "name": "stdout",
     "output_type": "stream",
     "text": [
      "Accuracy of the network on the test images: 33.333333333333336 %%\n",
      "Confusion Matrix:\n",
      "[[1 0]\n",
      " [2 0]]\n"
     ]
    },
    {
     "name": "stderr",
     "output_type": "stream",
     "text": [
      "Epoch 9: 100%|██████████| 2/2 [00:00<00:00, 17.78it/s, acc=1, loss=0.857]\n"
     ]
    },
    {
     "name": "stdout",
     "output_type": "stream",
     "text": [
      "Accuracy of the network on the test images: 33.333333333333336 %%\n",
      "Confusion Matrix:\n",
      "[[1 0]\n",
      " [2 0]]\n"
     ]
    },
    {
     "name": "stderr",
     "output_type": "stream",
     "text": [
      "Epoch 10: 100%|██████████| 2/2 [00:00<00:00, 45.14it/s, acc=1, loss=0.802]\n"
     ]
    },
    {
     "name": "stdout",
     "output_type": "stream",
     "text": [
      "Accuracy of the network on the test images: 33.333333333333336 %%\n",
      "Confusion Matrix:\n",
      "[[1 0]\n",
      " [2 0]]\n"
     ]
    },
    {
     "name": "stderr",
     "output_type": "stream",
     "text": [
      "Epoch 11: 100%|██████████| 2/2 [00:00<00:00, 20.15it/s, acc=1, loss=0.802]\n"
     ]
    },
    {
     "name": "stdout",
     "output_type": "stream",
     "text": [
      "Accuracy of the network on the test images: 33.333333333333336 %%\n",
      "Confusion Matrix:\n",
      "[[1 0]\n",
      " [2 0]]\n"
     ]
    },
    {
     "name": "stderr",
     "output_type": "stream",
     "text": [
      "Epoch 12: 100%|██████████| 2/2 [00:00<00:00, 33.62it/s, acc=1, loss=0.857]\n"
     ]
    },
    {
     "name": "stdout",
     "output_type": "stream",
     "text": [
      "Accuracy of the network on the test images: 33.333333333333336 %%\n",
      "Confusion Matrix:\n",
      "[[1 0]\n",
      " [2 0]]\n"
     ]
    },
    {
     "name": "stderr",
     "output_type": "stream",
     "text": [
      "Epoch 13: 100%|██████████| 2/2 [00:00<00:00, 56.37it/s, acc=1, loss=0.857]\n"
     ]
    },
    {
     "name": "stdout",
     "output_type": "stream",
     "text": [
      "Accuracy of the network on the test images: 33.333333333333336 %%\n",
      "Confusion Matrix:\n",
      "[[1 0]\n",
      " [2 0]]\n"
     ]
    },
    {
     "name": "stderr",
     "output_type": "stream",
     "text": [
      "Epoch 14: 100%|██████████| 2/2 [00:00<00:00, 43.86it/s, acc=0.75, loss=0.811]\n"
     ]
    },
    {
     "name": "stdout",
     "output_type": "stream",
     "text": [
      "Accuracy of the network on the test images: 33.333333333333336 %%\n",
      "Confusion Matrix:\n",
      "[[1 0]\n",
      " [2 0]]\n"
     ]
    },
    {
     "name": "stderr",
     "output_type": "stream",
     "text": [
      "Epoch 15: 100%|██████████| 2/2 [00:00<00:00, 43.97it/s, acc=1, loss=0.802]\n"
     ]
    },
    {
     "name": "stdout",
     "output_type": "stream",
     "text": [
      "Accuracy of the network on the test images: 33.333333333333336 %%\n",
      "Confusion Matrix:\n",
      "[[1 0]\n",
      " [2 0]]\n"
     ]
    },
    {
     "name": "stderr",
     "output_type": "stream",
     "text": [
      "Epoch 16: 100%|██████████| 2/2 [00:00<00:00, 18.92it/s, acc=1, loss=0.802]\n"
     ]
    },
    {
     "name": "stdout",
     "output_type": "stream",
     "text": [
      "Accuracy of the network on the test images: 33.333333333333336 %%\n",
      "Confusion Matrix:\n",
      "[[1 0]\n",
      " [2 0]]\n"
     ]
    },
    {
     "name": "stderr",
     "output_type": "stream",
     "text": [
      "Epoch 17: 100%|██████████| 2/2 [00:00<00:00, 14.75it/s, acc=1, loss=0.802]\n"
     ]
    },
    {
     "name": "stdout",
     "output_type": "stream",
     "text": [
      "Accuracy of the network on the test images: 33.333333333333336 %%\n",
      "Confusion Matrix:\n",
      "[[1 0]\n",
      " [2 0]]\n"
     ]
    },
    {
     "name": "stderr",
     "output_type": "stream",
     "text": [
      "Epoch 18: 100%|██████████| 2/2 [00:00<00:00, 35.52it/s, acc=1, loss=0.87]\n"
     ]
    },
    {
     "name": "stdout",
     "output_type": "stream",
     "text": [
      "Accuracy of the network on the test images: 33.333333333333336 %%\n",
      "Confusion Matrix:\n",
      "[[1 0]\n",
      " [2 0]]\n"
     ]
    },
    {
     "name": "stderr",
     "output_type": "stream",
     "text": [
      "Epoch 19: 100%|██████████| 2/2 [00:00<00:00, 26.43it/s, acc=1, loss=0.857]"
     ]
    },
    {
     "name": "stdout",
     "output_type": "stream",
     "text": [
      "Accuracy of the network on the test images: 33.333333333333336 %%\n",
      "Confusion Matrix:\n",
      "[[1 0]\n",
      " [2 0]]\n"
     ]
    },
    {
     "name": "stderr",
     "output_type": "stream",
     "text": [
      "\n"
     ]
    }
   ],
   "source": [
    "# Continue training for more epochs, optional\n",
    "n_epochs = 20\n",
    "best_weights = train(model, n_epochs, train_dataloader, optimizer, criterion)"
   ]
  },
  {
   "cell_type": "code",
   "execution_count": 47,
   "id": "0b2a3d81",
   "metadata": {},
   "outputs": [
    {
     "data": {
      "text/plain": [
       "<All keys matched successfully>"
      ]
     },
     "execution_count": 47,
     "metadata": {},
     "output_type": "execute_result"
    }
   ],
   "source": [
    "# # restore model and return best accuracy\n",
    "model.load_state_dict(best_weights)"
   ]
  },
  {
   "cell_type": "code",
   "execution_count": 48,
   "id": "90d1e357",
   "metadata": {},
   "outputs": [],
   "source": [
    "torch.save(model.state_dict(), save_model_name + \".pt\")"
   ]
  },
  {
   "cell_type": "code",
   "execution_count": 49,
   "id": "909e0867",
   "metadata": {},
   "outputs": [
    {
     "name": "stdout",
     "output_type": "stream",
     "text": [
      "Accuracy of the network on the test images: 33.333333333333336 %%\n",
      "Confusion Matrix:\n",
      "[[1 0]\n",
      " [2 0]]\n"
     ]
    },
    {
     "data": {
      "text/plain": [
       "33.333333333333336"
      ]
     },
     "execution_count": 49,
     "metadata": {},
     "output_type": "execute_result"
    }
   ],
   "source": [
    "test_model(model)"
   ]
  },
  {
   "cell_type": "code",
   "execution_count": 50,
   "id": "c00d1300",
   "metadata": {},
   "outputs": [
    {
     "name": "stdout",
     "output_type": "stream",
     "text": [
      "tensor([[0.],\n",
      "        [0.],\n",
      "        [0.]], device='cuda:0', grad_fn=<DivBackward0>)\n"
     ]
    }
   ],
   "source": [
    "torch_input_test = torch.randn(3, 3, 85, 85)\n",
    "torch_input_test = torch_input_test.to(0)\n",
    "out = model(torch_input_test)\n",
    "print(out)\n"
   ]
  },
  {
   "cell_type": "code",
   "execution_count": 51,
   "id": "d2cc3a9d",
   "metadata": {},
   "outputs": [],
   "source": [
    "torch_input = torch.randn(3, 3, 85, 85)\n",
    "\n",
    "torch_input = torch_input.to(0)\n",
    "# Export the model\n",
    "torch.onnx.export(model,                     # model being run\n",
    "                  torch_input,               # model input (or a tuple for multiple inputs)\n",
    "                  save_model_name + \".onnx\", # where to save the model (can be a file or file-like object)\n",
    "                  export_params=True,        # store the trained parameter weights inside the model file\n",
    "                  opset_version=10,          # the ONNX version to export the model to\n",
    "                  do_constant_folding=True)"
   ]
  },
  {
   "cell_type": "markdown",
   "id": "e6d72d0a",
   "metadata": {},
   "source": [
    "# Import sanity check"
   ]
  },
  {
   "cell_type": "code",
   "execution_count": 52,
   "id": "0f3e1b2a",
   "metadata": {},
   "outputs": [
    {
     "name": "stdout",
     "output_type": "stream",
     "text": [
      "graph main_graph (\n",
      "  %input.1[FLOAT, 3x3x85x85]\n",
      ") initializers (\n",
      "  %features.2.conv.3.fc.0.weight[FLOAT, 8x8]\n",
      "  %features.2.conv.3.fc.0.bias[FLOAT, 8]\n",
      "  %features.2.conv.3.fc.2.weight[FLOAT, 8x8]\n",
      "  %features.2.conv.3.fc.2.bias[FLOAT, 8]\n",
      "  %features.5.conv.5.fc.0.weight[FLOAT, 24x72]\n",
      "  %features.5.conv.5.fc.0.bias[FLOAT, 24]\n",
      "  %features.5.conv.5.fc.2.weight[FLOAT, 72x24]\n",
      "  %features.5.conv.5.fc.2.bias[FLOAT, 72]\n",
      "  %features.6.conv.5.fc.0.weight[FLOAT, 32x120]\n",
      "  %features.6.conv.5.fc.0.bias[FLOAT, 32]\n",
      "  %features.6.conv.5.fc.2.weight[FLOAT, 120x32]\n",
      "  %features.6.conv.5.fc.2.bias[FLOAT, 120]\n",
      "  %classifier.0.weight[FLOAT, 512x120]\n",
      "  %classifier.0.bias[FLOAT, 512]\n",
      "  %classifier.3.weight[FLOAT, 1x512]\n",
      "  %classifier.3.bias[FLOAT, 1]\n",
      "  %onnx::Conv_278[FLOAT, 4x3x3x3]\n",
      "  %onnx::Conv_279[FLOAT, 4]\n",
      "  %onnx::Conv_281[FLOAT, 4x1x3x3]\n",
      "  %onnx::Conv_282[FLOAT, 4]\n",
      "  %onnx::Conv_284[FLOAT, 8x4x1x1]\n",
      "  %onnx::Conv_285[FLOAT, 8]\n",
      "  %onnx::Conv_287[FLOAT, 8x1x3x3]\n",
      "  %onnx::Conv_288[FLOAT, 8]\n",
      "  %onnx::Conv_290[FLOAT, 16x8x1x1]\n",
      "  %onnx::Conv_291[FLOAT, 16]\n",
      "  %onnx::Conv_293[FLOAT, 72x16x1x1]\n",
      "  %onnx::Conv_294[FLOAT, 72]\n",
      "  %onnx::Conv_296[FLOAT, 72x1x3x3]\n",
      "  %onnx::Conv_297[FLOAT, 72]\n",
      "  %onnx::Conv_299[FLOAT, 24x72x1x1]\n",
      "  %onnx::Conv_300[FLOAT, 24]\n",
      "  %onnx::Conv_302[FLOAT, 88x24x1x1]\n",
      "  %onnx::Conv_303[FLOAT, 88]\n",
      "  %onnx::Conv_305[FLOAT, 88x1x3x3]\n",
      "  %onnx::Conv_306[FLOAT, 88]\n",
      "  %onnx::Conv_308[FLOAT, 24x88x1x1]\n",
      "  %onnx::Conv_309[FLOAT, 24]\n",
      "  %onnx::Conv_311[FLOAT, 72x24x1x1]\n",
      "  %onnx::Conv_312[FLOAT, 72]\n",
      "  %onnx::Conv_314[FLOAT, 72x1x5x5]\n",
      "  %onnx::Conv_315[FLOAT, 72]\n",
      "  %onnx::Conv_317[FLOAT, 40x72x1x1]\n",
      "  %onnx::Conv_318[FLOAT, 40]\n",
      "  %onnx::Conv_320[FLOAT, 120x40x1x1]\n",
      "  %onnx::Conv_321[FLOAT, 120]\n",
      "  %onnx::Conv_323[FLOAT, 120x1x5x5]\n",
      "  %onnx::Conv_324[FLOAT, 120]\n",
      "  %onnx::Conv_326[FLOAT, 40x120x1x1]\n",
      "  %onnx::Conv_327[FLOAT, 40]\n",
      "  %onnx::Conv_329[FLOAT, 120x40x1x1]\n",
      "  %onnx::Conv_330[FLOAT, 120]\n",
      ") {\n",
      "  %/features/features.0/features.0.0/Conv_output_0 = Conv[dilations = [1, 1], group = 1, kernel_shape = [3, 3], pads = [1, 1, 1, 1], strides = [2, 2]](%input.1, %onnx::Conv_278, %onnx::Conv_279)\n",
      "  %/features/features.0/features.0.2/sigmoid/Constant_output_0 = Constant[value = <Scalar Tensor []>]()\n",
      "  %/features/features.0/features.0.2/sigmoid/Add_output_0 = Add(%/features/features.0/features.0.0/Conv_output_0, %/features/features.0/features.0.2/sigmoid/Constant_output_0)\n",
      "  %/features/features.0/features.0.2/sigmoid/relu/Clip_output_0 = Clip[max = 6, min = 0](%/features/features.0/features.0.2/sigmoid/Add_output_0)\n",
      "  %/features/features.0/features.0.2/sigmoid/Constant_1_output_0 = Constant[value = <Scalar Tensor []>]()\n",
      "  %/features/features.0/features.0.2/sigmoid/Div_output_0 = Div(%/features/features.0/features.0.2/sigmoid/relu/Clip_output_0, %/features/features.0/features.0.2/sigmoid/Constant_1_output_0)\n",
      "  %/features/features.0/features.0.2/Mul_output_0 = Mul(%/features/features.0/features.0.0/Conv_output_0, %/features/features.0/features.0.2/sigmoid/Div_output_0)\n",
      "  %/features/features.1/conv/conv.0/Conv_output_0 = Conv[dilations = [1, 1], group = 4, kernel_shape = [3, 3], pads = [1, 1, 1, 1], strides = [1, 1]](%/features/features.0/features.0.2/Mul_output_0, %onnx::Conv_281, %onnx::Conv_282)\n",
      "  %/features/features.1/conv/conv.2/Relu_output_0 = Relu(%/features/features.1/conv/conv.0/Conv_output_0)\n",
      "  %/features/features.1/conv/conv.4/Conv_output_0 = Conv[dilations = [1, 1], group = 1, kernel_shape = [1, 1], pads = [0, 0, 0, 0], strides = [1, 1]](%/features/features.1/conv/conv.2/Relu_output_0, %onnx::Conv_284, %onnx::Conv_285)\n",
      "  %/features/features.2/conv/conv.0/Conv_output_0 = Conv[dilations = [1, 1], group = 8, kernel_shape = [3, 3], pads = [1, 1, 1, 1], strides = [2, 2]](%/features/features.1/conv/conv.4/Conv_output_0, %onnx::Conv_287, %onnx::Conv_288)\n",
      "  %/features/features.2/conv/conv.2/Relu_output_0 = Relu(%/features/features.2/conv/conv.0/Conv_output_0)\n",
      "  %/features/features.2/conv/conv.3/avg_pool/GlobalAveragePool_output_0 = GlobalAveragePool(%/features/features.2/conv/conv.2/Relu_output_0)\n",
      "  %/features/features.2/conv/conv.3/Constant_output_0 = Constant[value = <Tensor>]()\n",
      "  %/features/features.2/conv/conv.3/Reshape_output_0 = Reshape(%/features/features.2/conv/conv.3/avg_pool/GlobalAveragePool_output_0, %/features/features.2/conv/conv.3/Constant_output_0)\n",
      "  %/features/features.2/conv/conv.3/fc/fc.0/Gemm_output_0 = Gemm[alpha = 1, beta = 1, transB = 1](%/features/features.2/conv/conv.3/Reshape_output_0, %features.2.conv.3.fc.0.weight, %features.2.conv.3.fc.0.bias)\n",
      "  %/features/features.2/conv/conv.3/fc/fc.1/Relu_output_0 = Relu(%/features/features.2/conv/conv.3/fc/fc.0/Gemm_output_0)\n",
      "  %/features/features.2/conv/conv.3/fc/fc.2/Gemm_output_0 = Gemm[alpha = 1, beta = 1, transB = 1](%/features/features.2/conv/conv.3/fc/fc.1/Relu_output_0, %features.2.conv.3.fc.2.weight, %features.2.conv.3.fc.2.bias)\n",
      "  %/features/features.2/conv/conv.3/Constant_1_output_0 = Constant[value = <Tensor>]()\n",
      "  %/features/features.2/conv/conv.3/Reshape_1_output_0 = Reshape(%/features/features.2/conv/conv.3/fc/fc.2/Gemm_output_0, %/features/features.2/conv/conv.3/Constant_1_output_0)\n",
      "  %/features/features.2/conv/conv.3/Mul_output_0 = Mul(%/features/features.2/conv/conv.2/Relu_output_0, %/features/features.2/conv/conv.3/Reshape_1_output_0)\n",
      "  %/features/features.2/conv/conv.4/Conv_output_0 = Conv[dilations = [1, 1], group = 1, kernel_shape = [1, 1], pads = [0, 0, 0, 0], strides = [1, 1]](%/features/features.2/conv/conv.3/Mul_output_0, %onnx::Conv_290, %onnx::Conv_291)\n",
      "  %/features/features.3/conv/conv.0/Conv_output_0 = Conv[dilations = [1, 1], group = 1, kernel_shape = [1, 1], pads = [0, 0, 0, 0], strides = [1, 1]](%/features/features.2/conv/conv.4/Conv_output_0, %onnx::Conv_293, %onnx::Conv_294)\n",
      "  %/features/features.3/conv/conv.2/Relu_output_0 = Relu(%/features/features.3/conv/conv.0/Conv_output_0)\n",
      "  %/features/features.3/conv/conv.3/Conv_output_0 = Conv[dilations = [1, 1], group = 72, kernel_shape = [3, 3], pads = [1, 1, 1, 1], strides = [2, 2]](%/features/features.3/conv/conv.2/Relu_output_0, %onnx::Conv_296, %onnx::Conv_297)\n",
      "  %/features/features.3/conv/conv.6/Relu_output_0 = Relu(%/features/features.3/conv/conv.3/Conv_output_0)\n",
      "  %/features/features.3/conv/conv.7/Conv_output_0 = Conv[dilations = [1, 1], group = 1, kernel_shape = [1, 1], pads = [0, 0, 0, 0], strides = [1, 1]](%/features/features.3/conv/conv.6/Relu_output_0, %onnx::Conv_299, %onnx::Conv_300)\n",
      "  %/features/features.4/conv/conv.0/Conv_output_0 = Conv[dilations = [1, 1], group = 1, kernel_shape = [1, 1], pads = [0, 0, 0, 0], strides = [1, 1]](%/features/features.3/conv/conv.7/Conv_output_0, %onnx::Conv_302, %onnx::Conv_303)\n",
      "  %/features/features.4/conv/conv.2/Relu_output_0 = Relu(%/features/features.4/conv/conv.0/Conv_output_0)\n",
      "  %/features/features.4/conv/conv.3/Conv_output_0 = Conv[dilations = [1, 1], group = 88, kernel_shape = [3, 3], pads = [1, 1, 1, 1], strides = [1, 1]](%/features/features.4/conv/conv.2/Relu_output_0, %onnx::Conv_305, %onnx::Conv_306)\n",
      "  %/features/features.4/conv/conv.6/Relu_output_0 = Relu(%/features/features.4/conv/conv.3/Conv_output_0)\n",
      "  %/features/features.4/conv/conv.7/Conv_output_0 = Conv[dilations = [1, 1], group = 1, kernel_shape = [1, 1], pads = [0, 0, 0, 0], strides = [1, 1]](%/features/features.4/conv/conv.6/Relu_output_0, %onnx::Conv_308, %onnx::Conv_309)\n",
      "  %/features/features.4/Add_output_0 = Add(%/features/features.3/conv/conv.7/Conv_output_0, %/features/features.4/conv/conv.7/Conv_output_0)\n",
      "  %/features/features.5/conv/conv.0/Conv_output_0 = Conv[dilations = [1, 1], group = 1, kernel_shape = [1, 1], pads = [0, 0, 0, 0], strides = [1, 1]](%/features/features.4/Add_output_0, %onnx::Conv_311, %onnx::Conv_312)\n",
      "  %/features/features.5/conv/conv.2/sigmoid/Constant_output_0 = Constant[value = <Scalar Tensor []>]()\n",
      "  %/features/features.5/conv/conv.2/sigmoid/Add_output_0 = Add(%/features/features.5/conv/conv.0/Conv_output_0, %/features/features.5/conv/conv.2/sigmoid/Constant_output_0)\n",
      "  %/features/features.5/conv/conv.2/sigmoid/relu/Clip_output_0 = Clip[max = 6, min = 0](%/features/features.5/conv/conv.2/sigmoid/Add_output_0)\n",
      "  %/features/features.5/conv/conv.2/sigmoid/Constant_1_output_0 = Constant[value = <Scalar Tensor []>]()\n",
      "  %/features/features.5/conv/conv.2/sigmoid/Div_output_0 = Div(%/features/features.5/conv/conv.2/sigmoid/relu/Clip_output_0, %/features/features.5/conv/conv.2/sigmoid/Constant_1_output_0)\n",
      "  %/features/features.5/conv/conv.2/Mul_output_0 = Mul(%/features/features.5/conv/conv.0/Conv_output_0, %/features/features.5/conv/conv.2/sigmoid/Div_output_0)\n",
      "  %/features/features.5/conv/conv.3/Conv_output_0 = Conv[dilations = [1, 1], group = 72, kernel_shape = [5, 5], pads = [2, 2, 2, 2], strides = [2, 2]](%/features/features.5/conv/conv.2/Mul_output_0, %onnx::Conv_314, %onnx::Conv_315)\n",
      "  %/features/features.5/conv/conv.5/avg_pool/GlobalAveragePool_output_0 = GlobalAveragePool(%/features/features.5/conv/conv.3/Conv_output_0)\n",
      "  %/features/features.5/conv/conv.5/Constant_output_0 = Constant[value = <Tensor>]()\n",
      "  %/features/features.5/conv/conv.5/Reshape_output_0 = Reshape(%/features/features.5/conv/conv.5/avg_pool/GlobalAveragePool_output_0, %/features/features.5/conv/conv.5/Constant_output_0)\n",
      "  %/features/features.5/conv/conv.5/fc/fc.0/Gemm_output_0 = Gemm[alpha = 1, beta = 1, transB = 1](%/features/features.5/conv/conv.5/Reshape_output_0, %features.5.conv.5.fc.0.weight, %features.5.conv.5.fc.0.bias)\n",
      "  %/features/features.5/conv/conv.5/fc/fc.1/Relu_output_0 = Relu(%/features/features.5/conv/conv.5/fc/fc.0/Gemm_output_0)\n",
      "  %/features/features.5/conv/conv.5/fc/fc.2/Gemm_output_0 = Gemm[alpha = 1, beta = 1, transB = 1](%/features/features.5/conv/conv.5/fc/fc.1/Relu_output_0, %features.5.conv.5.fc.2.weight, %features.5.conv.5.fc.2.bias)\n",
      "  %/features/features.5/conv/conv.5/Constant_1_output_0 = Constant[value = <Tensor>]()\n",
      "  %/features/features.5/conv/conv.5/Reshape_1_output_0 = Reshape(%/features/features.5/conv/conv.5/fc/fc.2/Gemm_output_0, %/features/features.5/conv/conv.5/Constant_1_output_0)\n",
      "  %/features/features.5/conv/conv.5/Mul_output_0 = Mul(%/features/features.5/conv/conv.3/Conv_output_0, %/features/features.5/conv/conv.5/Reshape_1_output_0)\n",
      "  %/features/features.5/conv/conv.6/sigmoid/Constant_output_0 = Constant[value = <Scalar Tensor []>]()\n",
      "  %/features/features.5/conv/conv.6/sigmoid/Add_output_0 = Add(%/features/features.5/conv/conv.5/Mul_output_0, %/features/features.5/conv/conv.6/sigmoid/Constant_output_0)\n",
      "  %/features/features.5/conv/conv.6/sigmoid/relu/Clip_output_0 = Clip[max = 6, min = 0](%/features/features.5/conv/conv.6/sigmoid/Add_output_0)\n",
      "  %/features/features.5/conv/conv.6/sigmoid/Constant_1_output_0 = Constant[value = <Scalar Tensor []>]()\n",
      "  %/features/features.5/conv/conv.6/sigmoid/Div_output_0 = Div(%/features/features.5/conv/conv.6/sigmoid/relu/Clip_output_0, %/features/features.5/conv/conv.6/sigmoid/Constant_1_output_0)\n",
      "  %/features/features.5/conv/conv.6/Mul_output_0 = Mul(%/features/features.5/conv/conv.5/Mul_output_0, %/features/features.5/conv/conv.6/sigmoid/Div_output_0)\n",
      "  %/features/features.5/conv/conv.7/Conv_output_0 = Conv[dilations = [1, 1], group = 1, kernel_shape = [1, 1], pads = [0, 0, 0, 0], strides = [1, 1]](%/features/features.5/conv/conv.6/Mul_output_0, %onnx::Conv_317, %onnx::Conv_318)\n",
      "  %/features/features.6/conv/conv.0/Conv_output_0 = Conv[dilations = [1, 1], group = 1, kernel_shape = [1, 1], pads = [0, 0, 0, 0], strides = [1, 1]](%/features/features.5/conv/conv.7/Conv_output_0, %onnx::Conv_320, %onnx::Conv_321)\n",
      "  %/features/features.6/conv/conv.2/sigmoid/Constant_output_0 = Constant[value = <Scalar Tensor []>]()\n",
      "  %/features/features.6/conv/conv.2/sigmoid/Add_output_0 = Add(%/features/features.6/conv/conv.0/Conv_output_0, %/features/features.6/conv/conv.2/sigmoid/Constant_output_0)\n",
      "  %/features/features.6/conv/conv.2/sigmoid/relu/Clip_output_0 = Clip[max = 6, min = 0](%/features/features.6/conv/conv.2/sigmoid/Add_output_0)\n",
      "  %/features/features.6/conv/conv.2/sigmoid/Constant_1_output_0 = Constant[value = <Scalar Tensor []>]()\n",
      "  %/features/features.6/conv/conv.2/sigmoid/Div_output_0 = Div(%/features/features.6/conv/conv.2/sigmoid/relu/Clip_output_0, %/features/features.6/conv/conv.2/sigmoid/Constant_1_output_0)\n",
      "  %/features/features.6/conv/conv.2/Mul_output_0 = Mul(%/features/features.6/conv/conv.0/Conv_output_0, %/features/features.6/conv/conv.2/sigmoid/Div_output_0)\n",
      "  %/features/features.6/conv/conv.3/Conv_output_0 = Conv[dilations = [1, 1], group = 120, kernel_shape = [5, 5], pads = [2, 2, 2, 2], strides = [1, 1]](%/features/features.6/conv/conv.2/Mul_output_0, %onnx::Conv_323, %onnx::Conv_324)\n",
      "  %/features/features.6/conv/conv.5/avg_pool/GlobalAveragePool_output_0 = GlobalAveragePool(%/features/features.6/conv/conv.3/Conv_output_0)\n",
      "  %/features/features.6/conv/conv.5/Constant_output_0 = Constant[value = <Tensor>]()\n",
      "  %/features/features.6/conv/conv.5/Reshape_output_0 = Reshape(%/features/features.6/conv/conv.5/avg_pool/GlobalAveragePool_output_0, %/features/features.6/conv/conv.5/Constant_output_0)\n",
      "  %/features/features.6/conv/conv.5/fc/fc.0/Gemm_output_0 = Gemm[alpha = 1, beta = 1, transB = 1](%/features/features.6/conv/conv.5/Reshape_output_0, %features.6.conv.5.fc.0.weight, %features.6.conv.5.fc.0.bias)\n",
      "  %/features/features.6/conv/conv.5/fc/fc.1/Relu_output_0 = Relu(%/features/features.6/conv/conv.5/fc/fc.0/Gemm_output_0)\n",
      "  %/features/features.6/conv/conv.5/fc/fc.2/Gemm_output_0 = Gemm[alpha = 1, beta = 1, transB = 1](%/features/features.6/conv/conv.5/fc/fc.1/Relu_output_0, %features.6.conv.5.fc.2.weight, %features.6.conv.5.fc.2.bias)\n",
      "  %/features/features.6/conv/conv.5/Constant_1_output_0 = Constant[value = <Tensor>]()\n",
      "  %/features/features.6/conv/conv.5/Reshape_1_output_0 = Reshape(%/features/features.6/conv/conv.5/fc/fc.2/Gemm_output_0, %/features/features.6/conv/conv.5/Constant_1_output_0)\n",
      "  %/features/features.6/conv/conv.5/Mul_output_0 = Mul(%/features/features.6/conv/conv.3/Conv_output_0, %/features/features.6/conv/conv.5/Reshape_1_output_0)\n",
      "  %/features/features.6/conv/conv.6/sigmoid/Constant_output_0 = Constant[value = <Scalar Tensor []>]()\n",
      "  %/features/features.6/conv/conv.6/sigmoid/Add_output_0 = Add(%/features/features.6/conv/conv.5/Mul_output_0, %/features/features.6/conv/conv.6/sigmoid/Constant_output_0)\n",
      "  %/features/features.6/conv/conv.6/sigmoid/relu/Clip_output_0 = Clip[max = 6, min = 0](%/features/features.6/conv/conv.6/sigmoid/Add_output_0)\n",
      "  %/features/features.6/conv/conv.6/sigmoid/Constant_1_output_0 = Constant[value = <Scalar Tensor []>]()\n",
      "  %/features/features.6/conv/conv.6/sigmoid/Div_output_0 = Div(%/features/features.6/conv/conv.6/sigmoid/relu/Clip_output_0, %/features/features.6/conv/conv.6/sigmoid/Constant_1_output_0)\n",
      "  %/features/features.6/conv/conv.6/Mul_output_0 = Mul(%/features/features.6/conv/conv.5/Mul_output_0, %/features/features.6/conv/conv.6/sigmoid/Div_output_0)\n",
      "  %/features/features.6/conv/conv.7/Conv_output_0 = Conv[dilations = [1, 1], group = 1, kernel_shape = [1, 1], pads = [0, 0, 0, 0], strides = [1, 1]](%/features/features.6/conv/conv.6/Mul_output_0, %onnx::Conv_326, %onnx::Conv_327)\n",
      "  %/features/features.6/Add_output_0 = Add(%/features/features.5/conv/conv.7/Conv_output_0, %/features/features.6/conv/conv.7/Conv_output_0)\n",
      "  %/conv/conv.0/Conv_output_0 = Conv[dilations = [1, 1], group = 1, kernel_shape = [1, 1], pads = [0, 0, 0, 0], strides = [1, 1]](%/features/features.6/Add_output_0, %onnx::Conv_329, %onnx::Conv_330)\n",
      "  %/conv/conv.2/sigmoid/Constant_output_0 = Constant[value = <Scalar Tensor []>]()\n",
      "  %/conv/conv.2/sigmoid/Add_output_0 = Add(%/conv/conv.0/Conv_output_0, %/conv/conv.2/sigmoid/Constant_output_0)\n",
      "  %/conv/conv.2/sigmoid/relu/Clip_output_0 = Clip[max = 6, min = 0](%/conv/conv.2/sigmoid/Add_output_0)\n",
      "  %/conv/conv.2/sigmoid/Constant_1_output_0 = Constant[value = <Scalar Tensor []>]()\n",
      "  %/conv/conv.2/sigmoid/Div_output_0 = Div(%/conv/conv.2/sigmoid/relu/Clip_output_0, %/conv/conv.2/sigmoid/Constant_1_output_0)\n",
      "  %/conv/conv.2/Mul_output_0 = Mul(%/conv/conv.0/Conv_output_0, %/conv/conv.2/sigmoid/Div_output_0)\n",
      "  %/avgpool/GlobalAveragePool_output_0 = GlobalAveragePool(%/conv/conv.2/Mul_output_0)\n",
      "  %/Constant_output_0 = Constant[value = <Tensor>]()\n",
      "  %/Reshape_output_0 = Reshape(%/avgpool/GlobalAveragePool_output_0, %/Constant_output_0)\n",
      "  %/classifier/classifier.0/Gemm_output_0 = Gemm[alpha = 1, beta = 1, transB = 1](%/Reshape_output_0, %classifier.0.weight, %classifier.0.bias)\n",
      "  %/classifier/classifier.1/sigmoid/Constant_output_0 = Constant[value = <Scalar Tensor []>]()\n",
      "  %/classifier/classifier.1/sigmoid/Add_output_0 = Add(%/classifier/classifier.0/Gemm_output_0, %/classifier/classifier.1/sigmoid/Constant_output_0)\n",
      "  %/classifier/classifier.1/sigmoid/relu/Clip_output_0 = Clip[max = 6, min = 0](%/classifier/classifier.1/sigmoid/Add_output_0)\n",
      "  %/classifier/classifier.1/sigmoid/Constant_1_output_0 = Constant[value = <Scalar Tensor []>]()\n",
      "  %/classifier/classifier.1/sigmoid/Div_output_0 = Div(%/classifier/classifier.1/sigmoid/relu/Clip_output_0, %/classifier/classifier.1/sigmoid/Constant_1_output_0)\n",
      "  %/classifier/classifier.1/Mul_output_0 = Mul(%/classifier/classifier.0/Gemm_output_0, %/classifier/classifier.1/sigmoid/Div_output_0)\n",
      "  %/classifier/classifier.3/Gemm_output_0 = Gemm[alpha = 1, beta = 1, transB = 1](%/classifier/classifier.1/Mul_output_0, %classifier.3.weight, %classifier.3.bias)\n",
      "  %/classifier/classifier.4/Constant_output_0 = Constant[value = <Scalar Tensor []>]()\n",
      "  %/classifier/classifier.4/Add_output_0 = Add(%/classifier/classifier.3/Gemm_output_0, %/classifier/classifier.4/Constant_output_0)\n",
      "  %/classifier/classifier.4/relu/Clip_output_0 = Clip[max = 6, min = 0](%/classifier/classifier.4/Add_output_0)\n",
      "  %/classifier/classifier.4/Constant_1_output_0 = Constant[value = <Scalar Tensor []>]()\n",
      "  %276 = Div(%/classifier/classifier.4/relu/Clip_output_0, %/classifier/classifier.4/Constant_1_output_0)\n",
      "  return %276\n",
      "}\n"
     ]
    }
   ],
   "source": [
    "import onnx\n",
    "import onnxruntime as ort\n",
    "\n",
    "# Load the ONNX model\n",
    "model = onnx.load(save_model_name + \".onnx\")\n",
    "\n",
    "# Check that the IR is well formed\n",
    "onnx.checker.check_model(model)\n",
    "\n",
    "# Print a human readable representation of the graph\n",
    "print(onnx.helper.printable_graph(model.graph))"
   ]
  },
  {
   "cell_type": "code",
   "execution_count": 53,
   "id": "77141f1c",
   "metadata": {},
   "outputs": [
    {
     "name": "stdout",
     "output_type": "stream",
     "text": [
      "0.039215688\n",
      "0.078431375\n",
      "0.39215687\n",
      "[array([[0.        ],\n",
      "       [0.79923517],\n",
      "       [0.79923517]], dtype=float32)]\n"
     ]
    }
   ],
   "source": [
    "# This output is used to compare the paparazzi c implementation against\n",
    "\n",
    "# Create an input tensor\n",
    "input_tensor = np.zeros((3, 3, 85, 85)).astype(np.float32)\n",
    "input_tensor[0][0][:][:] = 10/255\n",
    "input_tensor[0][1][:][:] = 20/255\n",
    "input_tensor[0][2][:][:] = 100/255\n",
    "print(input_tensor[0][0][0][0])\n",
    "print(input_tensor[0][1][0][0])\n",
    "print(input_tensor[0][2][0][0])\n",
    "# Create an ONNX runtime session\n",
    "ort_session = ort.InferenceSession(save_model_name + \".onnx\")\n",
    "\n",
    "# Run the model with the input tensor\n",
    "output = ort_session.run(None, {'input.1': input_tensor})\n",
    "\n",
    "print(output)"
   ]
  },
  {
   "cell_type": "code",
   "execution_count": null,
   "id": "c0278515",
   "metadata": {},
   "outputs": [],
   "source": []
  }
 ],
 "metadata": {
  "kernelspec": {
   "display_name": "Python 3 (ipykernel)",
   "language": "python",
   "name": "python3"
  },
  "language_info": {
   "codemirror_mode": {
    "name": "ipython",
    "version": 3
   },
   "file_extension": ".py",
   "mimetype": "text/x-python",
   "name": "python",
   "nbconvert_exporter": "python",
   "pygments_lexer": "ipython3",
   "version": "3.10.13"
  }
 },
 "nbformat": 4,
 "nbformat_minor": 5
}
